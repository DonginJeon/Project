{
 "cells": [
  {
   "cell_type": "markdown",
   "metadata": {},
   "source": [
    "# 로그 조회"
   ]
  },
  {
   "cell_type": "code",
   "execution_count": 2,
   "metadata": {},
   "outputs": [
    {
     "name": "stdout",
     "output_type": "stream",
     "text": [
      "(284, '전동인 - 2학년', \"문장에서 '여행'의 품사는 무엇일까요?\", '명사', '명사', 1, 0.0, '2024-09-26 02:34:27')\n",
      "(285, '전동인 - 2학년', \"문장에서 '우리'의 품사는 무엇일까요?\", '명사임', '명사', 1, 0.0, '2024-09-26 02:34:46')\n",
      "(286, '전동인 - 2학년', \"문장에서 '는'의 품사는 무엇일까요?\", '조사', '조사', 1, 0.0, '2024-09-26 02:34:46')\n",
      "(287, '전동인 - 2학년', \"문장에서 '를'의 품사는 무엇일까요?\", '조사', '조사', 1, 0.0, '2024-09-26 02:34:46')\n",
      "(288, '전동인 - 2학년', \"문장에서 '피곤해서'의 품사는 무엇일까요?\", '형용사', '형용사', 1, 0.0, '2024-09-26 02:34:46')\n",
      "(289, '전동인 - 2학년', \"문장에서 '를'의 품사는 무엇일까요?\", '조사', '조사', 1, 0.0, '2024-09-26 02:34:46')\n",
      "(290, '전동인 - 2학년', \"문장에서 '는'의 품사는 무엇일까요?\", '조사', '조사', 1, 0.0, '2024-09-26 02:34:46')\n",
      "(291, '전동인 - 2학년', \"문장에서 '나'의 품사는 무엇일까요?\", '명사', '명사', 1, 0.0, '2024-09-26 02:34:46')\n",
      "(292, '전동인 - 2학년', \"문장에서 '을'의 품사는 무엇일까요?\", 'ㅇ', '조사', 0, 0.0, '2024-09-26 02:34:46')\n",
      "(293, '전동인 - 2학년', \"문장에서 '어제'의 품사는 무엇일까요?\", 'ㅇ', '명사', 0, 0.0, '2024-09-26 02:34:46')\n"
     ]
    }
   ],
   "source": [
    "import sqlite3\n",
    "\n",
    "# DB 연결\n",
    "conn = sqlite3.connect(\"quiz_logs.db\")\n",
    "cursor = conn.cursor()\n",
    "\n",
    "# 테이블의 모든 로그 조회\n",
    "cursor.execute(\"SELECT * FROM quiz_logs\")\n",
    "rows = cursor.fetchall()\n",
    "\n",
    "# 결과 출력\n",
    "for row in rows:\n",
    "    print(row)\n",
    "\n",
    "# DB 연결 종료\n",
    "conn.close()"
   ]
  },
  {
   "cell_type": "markdown",
   "metadata": {},
   "source": [
    "# 모든 로그 삭제"
   ]
  },
  {
   "cell_type": "code",
   "execution_count": 1,
   "metadata": {},
   "outputs": [
    {
     "name": "stdout",
     "output_type": "stream",
     "text": [
      "모든 로그가 삭제되었습니다.\n"
     ]
    }
   ],
   "source": [
    "import sqlite3\n",
    "\n",
    "# DB 연결\n",
    "conn = sqlite3.connect(\"quiz_logs.db\")\n",
    "cursor = conn.cursor()\n",
    "\n",
    "# 테이블의 모든 로그 삭제\n",
    "cursor.execute(\"DELETE FROM quiz_logs\")\n",
    "\n",
    "# 변경 사항을 커밋 (저장)\n",
    "conn.commit()\n",
    "\n",
    "print(\"모든 로그가 삭제되었습니다.\")\n",
    "\n",
    "# DB 연결 종료\n",
    "conn.close()"
   ]
  }
 ],
 "metadata": {
  "kernelspec": {
   "display_name": "Python 3",
   "language": "python",
   "name": "python3"
  },
  "language_info": {
   "codemirror_mode": {
    "name": "ipython",
    "version": 3
   },
   "file_extension": ".py",
   "mimetype": "text/x-python",
   "name": "python",
   "nbconvert_exporter": "python",
   "pygments_lexer": "ipython3",
   "version": "3.12.4"
  }
 },
 "nbformat": 4,
 "nbformat_minor": 2
}
