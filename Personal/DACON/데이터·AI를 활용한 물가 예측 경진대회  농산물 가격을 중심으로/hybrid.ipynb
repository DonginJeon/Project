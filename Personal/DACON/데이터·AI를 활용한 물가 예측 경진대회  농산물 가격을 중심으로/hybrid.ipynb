{
 "cells": [
  {
   "cell_type": "code",
   "execution_count": null,
   "metadata": {},
   "outputs": [],
   "source": [
    "import pandas as pd\n",
    "import numpy as np\n",
    "from sklearn.model_selection import train_test_split\n",
    "from sklearn.preprocessing import LabelEncoder\n",
    "\n",
    "# 데이터 불러오기\n",
    "df = pd.read_csv('your_data.csv')\n",
    "\n",
    "# '시점'을 datetime 형식으로 변환하고, 필요한 시계열 피처 추출\n",
    "df['시점'] = pd.to_datetime(df['시점'].str[:6], format='%Y%m')\n",
    "df['월'] = df['시점'].dt.month\n",
    "df['년'] = df['시점'].dt.year\n",
    "\n",
    "# 필요한 피처만 선택 (여기서는 '평균가(원/kg)' 예측)\n",
    "features = ['월', '년', '총반입량(kg)', '총거래금액(원)', '최저가(원/kg)', '최고가(원/kg)', '경매 건수', '전순 평균가격(원)', '전달 평균가격(원)', '전년 평균가격(원)']\n",
    "target = '평균가(원/kg)'\n",
    "\n",
    "X = df[features]\n",
    "y = df[target]\n",
    "\n",
    "# Label Encoding (필요시)\n",
    "# encoder = LabelEncoder()\n",
    "# df['등급명'] = encoder.fit_transform(df['등급명'])\n",
    "\n",
    "# Train-Test Split\n",
    "X_train, X_test, y_train, y_test = train_test_split(X, y, test_size=0.2, random_state=42)\n"
   ]
  },
  {
   "cell_type": "code",
   "execution_count": null,
   "metadata": {},
   "outputs": [],
   "source": [
    "import lightgbm as lgb\n",
    "from sklearn.metrics import mean_squared_error\n",
    "\n",
    "# LGBM 데이터셋 준비\n",
    "train_data = lgb.Dataset(X_train, label=y_train)\n",
    "test_data = lgb.Dataset(X_test, label=y_test)\n",
    "\n",
    "# LGBM 모델 학습\n",
    "params = {\n",
    "    'objective': 'regression',\n",
    "    'metric': 'rmse',\n",
    "    'boosting_type': 'gbdt',\n",
    "    'learning_rate': 0.1,\n",
    "    'num_leaves': 31,\n",
    "    'max_depth': -1,\n",
    "}\n",
    "\n",
    "lgb_model = lgb.train(params, train_data, valid_sets=[train_data, test_data], early_stopping_rounds=50)\n",
    "\n",
    "# 예측 및 평가\n",
    "y_pred_lgb = lgb_model.predict(X_test)\n",
    "rmse_lgb = np.sqrt(mean_squared_error(y_test, y_pred_lgb))\n",
    "print(f'LGBM RMSE: {rmse_lgb}')\n"
   ]
  },
  {
   "cell_type": "code",
   "execution_count": null,
   "metadata": {},
   "outputs": [],
   "source": [
    "from sklearn.preprocessing import MinMaxScaler\n",
    "from keras.preprocessing.sequence import TimeseriesGenerator\n",
    "\n",
    "# 스케일링\n",
    "scaler = MinMaxScaler(feature_range=(0, 1))\n",
    "scaled_data = scaler.fit_transform(df[['평균가(원/kg)']])\n",
    "\n",
    "# LSTM을 위한 시계열 데이터 생성 (여기서는 12개월 시계열 데이터를 사용)\n",
    "time_steps = 12\n",
    "generator = TimeseriesGenerator(scaled_data, scaled_data, length=time_steps, batch_size=1)\n",
    "\n",
    "# LSTM 모델\n",
    "from keras.models import Sequential\n",
    "from keras.layers import LSTM, Dense, Dropout\n",
    "\n",
    "model = Sequential()\n",
    "model.add(LSTM(50, return_sequences=True, input_shape=(time_steps, 1)))\n",
    "model.add(LSTM(50))\n",
    "model.add(Dropout(0.2))\n",
    "model.add(Dense(1))\n",
    "\n",
    "model.compile(optimizer='adam', loss='mean_squared_error')\n",
    "\n",
    "# 학습\n",
    "model.fit(generator, epochs=10)\n",
    "\n",
    "# 예측\n",
    "pred_lstm = model.predict(generator)\n",
    "pred_lstm_rescaled = scaler.inverse_transform(pred_lstm)\n"
   ]
  },
  {
   "cell_type": "code",
   "execution_count": null,
   "metadata": {},
   "outputs": [],
   "source": [
    "# 두 모델의 결과를 결합 (가중 평균)\n",
    "hybrid_pred = 0.5 * y_pred_lgb + 0.5 * pred_lstm_rescaled.flatten()\n",
    "\n",
    "# 평가\n",
    "nmae_value = np.mean(np.abs((y_test - hybrid_pred) / y_test))\n",
    "print(f'Hybrid Model NMAE: {nmae_value}')\n"
   ]
  }
 ],
 "metadata": {
  "kernelspec": {
   "display_name": "Python 3",
   "language": "python",
   "name": "python3"
  },
  "language_info": {
   "name": "python",
   "version": "3.8.19"
  }
 },
 "nbformat": 4,
 "nbformat_minor": 2
}
