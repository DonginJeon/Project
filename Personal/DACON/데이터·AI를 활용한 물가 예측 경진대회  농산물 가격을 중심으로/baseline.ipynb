{
 "cells": [
  {
   "cell_type": "markdown",
   "metadata": {},
   "source": [
    "# 농산물 가격 예측을 위한 AI 모델 개발 \n",
    "- '2024 농산물 가격 예측 AI 경진대회'는 데이터와 AI 기술을 활용하여 농산물 가격 예측 능력을 향상시키는 것을 목표로 합니다.<br>  이 대회는 농업 분야의 복잡한 시계열 데이터를 효율적으로 분석하고 예측할 수 있는 AI 알고리즘 개발에 초점을 맞추고 있습니다. <br> <br>\n",
    "- 이 대회의 궁극적 목적은 참가자들의 시계열 데이터 분석 및 예측 역량을 강화하고, <br> AI 기술이 실제 농산물 가격 예측과 관련 정책 결정에 어떻게 기여할 수 있는지 탐구하는 것입니다. "
   ]
  },
  {
   "cell_type": "markdown",
   "metadata": {},
   "source": [
    "# Import Library"
   ]
  },
  {
   "cell_type": "code",
   "execution_count": 1,
   "metadata": {},
   "outputs": [],
   "source": [
    "import pandas as pd\n",
    "import numpy as np\n",
    "import torch\n",
    "import torch.nn as nn\n",
    "from tqdm.notebook import tqdm\n",
    "from torch.utils.data import Dataset, DataLoader\n",
    "from sklearn.model_selection import train_test_split\n",
    "from types import SimpleNamespace\n",
    "from sklearn.preprocessing import MinMaxScaler\n",
    "import os"
   ]
  },
  {
   "cell_type": "markdown",
   "metadata": {},
   "source": [
    "# Hyperparameter Setting"
   ]
  },
  {
   "cell_type": "code",
   "execution_count": 2,
   "metadata": {},
   "outputs": [],
   "source": [
    "config = {\n",
    "    \"learning_rate\": 2e-5,\n",
    "    \"epoch\": 30,\n",
    "    \"batch_size\": 64,\n",
    "    \"hidden_size\": 64,\n",
    "    \"num_layers\": 2,\n",
    "    \"output_size\": 3\n",
    "}\n",
    "\n",
    "CFG = SimpleNamespace(**config)\n",
    "\n",
    "품목_리스트 = ['건고추', '사과', '감자', '배', '깐마늘(국산)', '무', '상추', '배추', '양파', '대파']"
   ]
  },
  {
   "cell_type": "markdown",
   "metadata": {},
   "source": [
    "# Define Function for Feature Engineering\n",
    "- 타겟의 필터 조건을 제외한 메타데이터의 필터 조건은 참가자들 각자의 기준에 맞춰 자유롭게 사용가능 \n",
    "- 밑의 필터 조건은 임의로 제공하는 예시"
   ]
  },
  {
   "cell_type": "code",
   "execution_count": 3,
   "metadata": {},
   "outputs": [],
   "source": [
    "\n",
    "def process_data(raw_file, 산지공판장_file, 전국도매_file, 품목명, scaler=None):\n",
    "    raw_data = pd.read_csv(raw_file)\n",
    "    산지공판장 = pd.read_csv(산지공판장_file)\n",
    "    전국도매 = pd.read_csv(전국도매_file)\n",
    "\n",
    "    # 타겟 및 메타데이터 필터 조건 정의\n",
    "    conditions = {\n",
    "    '감자': {\n",
    "        'target': lambda df: (df['품종명'] == '감자 수미') & (df['거래단위'] == '20키로상자') & (df['등급'] == '상'),\n",
    "        '공판장': {'공판장명': ['*전국농협공판장'], '품목명': ['감자'], '품종명': ['수미'], '등급명': ['상']},\n",
    "        '도매': {'시장명': ['*전국도매시장'], '품목명': ['감자'], '품종명': ['수미']}\n",
    "    },\n",
    "    '건고추': {\n",
    "        'target': lambda df: (df['품종명'] == '화건') & (df['거래단위'] == '30 kg') & (df['등급'] == '상품'),\n",
    "        '공판장': None, \n",
    "        '도매': None  \n",
    "    },\n",
    "    '깐마늘(국산)': {\n",
    "        'target': lambda df: (df['거래단위'] == '20 kg') & (df['등급'] == '상품'),\n",
    "        '공판장': {'공판장명': ['*전국농협공판장'], '품목명': ['마늘'], '품종명': ['깐마늘'], '등급명': ['상']},\n",
    "        '도매': {'시장명': ['*전국도매시장'], '품목명': ['마늘'], '품종명': ['깐마늘']}\n",
    "    },\n",
    "    '대파': {\n",
    "        'target': lambda df: (df['품종명'] == '대파(일반)') & (df['거래단위'] == '1키로단') & (df['등급'] == '상'),\n",
    "        '공판장': {'공판장명': ['*전국농협공판장'], '품목명': ['대파'], '품종명': ['대파(일반)'], '등급명': ['상']},\n",
    "        '도매': {'시장명': ['*전국도매시장'], '품목명': ['대파'], '품종명': ['대파(일반)']}\n",
    "    },\n",
    "    '무': {\n",
    "        'target': lambda df: (df['거래단위'] == '20키로상자') & (df['등급'] == '상'),\n",
    "        '공판장': {'공판장명': ['*전국농협공판장'], '품목명': ['무'], '품종명': ['기타무'], '등급명': ['상']},\n",
    "        '도매': {'시장명': ['*전국도매시장'], '품목명': ['무'], '품종명': ['무']}\n",
    "    },\n",
    "    '배추': {\n",
    "        'target': lambda df: (df['거래단위'] == '10키로망대') & (df['등급'] == '상'),\n",
    "        '공판장': {'공판장명': ['*전국농협공판장'], '품목명': ['배추'], '품종명': ['쌈배추'], '등급명': ['상']},\n",
    "        '도매': {'시장명': ['*전국도매시장'], '품목명': ['배추'], '품종명': ['배추']}\n",
    "    },\n",
    "    '사과': {\n",
    "        'target': lambda df: (df['품종명'].isin(['홍로', '후지'])) & (df['거래단위'] == '10 개') & (df['등급'] == '상품'),\n",
    "        '공판장': {'공판장명': ['*전국농협공판장'], '품목명': ['사과'], '품종명': ['후지'], '등급명': ['상']},\n",
    "        '도매': {'시장명': ['*전국도매시장'], '품목명': ['사과'], '품종명': ['후지']}\n",
    "    },\n",
    "    '상추': {\n",
    "        'target': lambda df: (df['품종명'] == '청') & (df['거래단위'] == '100 g') & (df['등급'] == '상품'),\n",
    "        '공판장': {'공판장명': ['*전국농협공판장'], '품목명': ['상추'], '품종명': ['청상추'], '등급명': ['상']},\n",
    "        '도매': {'시장명': ['*전국도매시장'], '품목명': ['상추'], '품종명': ['청상추']}\n",
    "    },\n",
    "    '양파': {\n",
    "        'target': lambda df: (df['품종명'] == '양파') & (df['거래단위'] == '1키로') & (df['등급'] == '상'),\n",
    "        '공판장': {'공판장명': ['*전국농협공판장'], '품목명': ['양파'], '품종명': ['기타양파'], '등급명': ['상']},\n",
    "        '도매': {'시장명': ['*전국도매시장'], '품목명': ['양파'], '품종명': ['양파(일반)']}\n",
    "    },\n",
    "    '배': {\n",
    "        'target': lambda df: (df['품종명'] == '신고') & (df['거래단위'] == '10 개') & (df['등급'] == '상품'),\n",
    "        '공판장': {'공판장명': ['*전국농협공판장'], '품목명': ['배'], '품종명': ['신고'], '등급명': ['상']},\n",
    "        '도매': {'시장명': ['*전국도매시장'], '품목명': ['배'], '품종명': ['신고']}\n",
    "    }\n",
    "    }\n",
    "\n",
    "    # 타겟 데이터 필터링\n",
    "    raw_품목 = raw_data[raw_data['품목명'] == 품목명]\n",
    "    target_mask = conditions[품목명]['target'](raw_품목)\n",
    "    filtered_data = raw_품목[target_mask]\n",
    "\n",
    "    # 다른 품종에 대한 파생변수 생성\n",
    "    other_data = raw_품목[~target_mask]\n",
    "    unique_combinations = other_data[['품종명', '거래단위', '등급']].drop_duplicates()\n",
    "    for _, row in unique_combinations.iterrows():\n",
    "        품종명, 거래단위, 등급 = row['품종명'], row['거래단위'], row['등급']\n",
    "        mask = (other_data['품종명'] == 품종명) & (other_data['거래단위'] == 거래단위) & (other_data['등급'] == 등급)\n",
    "        temp_df = other_data[mask]\n",
    "        for col in ['평년 평균가격(원)', '평균가격(원)']:\n",
    "            new_col_name = f'{품종명}_{거래단위}_{등급}_{col}'\n",
    "            filtered_data = filtered_data.merge(temp_df[['시점', col]], on='시점', how='left', suffixes=('', f'_{new_col_name}'))\n",
    "            filtered_data.rename(columns={f'{col}_{new_col_name}': new_col_name}, inplace=True)\n",
    "\n",
    "\n",
    "    # 공판장 데이터 처리\n",
    "    if conditions[품목명]['공판장']:\n",
    "        filtered_공판장 = 산지공판장\n",
    "        for key, value in conditions[품목명]['공판장'].items():\n",
    "            filtered_공판장 = filtered_공판장[filtered_공판장[key].isin(value)]\n",
    "        \n",
    "        filtered_공판장 = filtered_공판장.add_prefix('공판장_').rename(columns={'공판장_시점': '시점'})\n",
    "        filtered_data = filtered_data.merge(filtered_공판장, on='시점', how='left')\n",
    "\n",
    "    # 도매 데이터 처리\n",
    "    if conditions[품목명]['도매']:\n",
    "        filtered_도매 = 전국도매\n",
    "        for key, value in conditions[품목명]['도매'].items():\n",
    "            filtered_도매 = filtered_도매[filtered_도매[key].isin(value)]\n",
    "        \n",
    "        filtered_도매 = filtered_도매.add_prefix('도매_').rename(columns={'도매_시점': '시점'})\n",
    "        filtered_data = filtered_data.merge(filtered_도매, on='시점', how='left')\n",
    "\n",
    "    # 수치형 컬럼 처리\n",
    "    numeric_columns = filtered_data.select_dtypes(include=[np.number]).columns\n",
    "    filtered_data = filtered_data[['시점'] + list(numeric_columns)]\n",
    "    filtered_data[numeric_columns] = filtered_data[numeric_columns].fillna(0)\n",
    "\n",
    "    # 정규화 적용\n",
    "    if scaler is None:\n",
    "        scaler = MinMaxScaler()\n",
    "        filtered_data[numeric_columns] = scaler.fit_transform(filtered_data[numeric_columns])\n",
    "    else:\n",
    "        filtered_data[numeric_columns] = scaler.transform(filtered_data[numeric_columns])\n",
    "\n",
    "    return filtered_data, scaler\n"
   ]
  },
  {
   "cell_type": "markdown",
   "metadata": {},
   "source": [
    "# Define Custom Dataset Class"
   ]
  },
  {
   "cell_type": "code",
   "execution_count": 4,
   "metadata": {},
   "outputs": [],
   "source": [
    "class AgriculturePriceDataset(Dataset):\n",
    "    def __init__(self, dataframe, window_size=9, prediction_length=3, is_test=False):\n",
    "        self.data = dataframe\n",
    "        self.window_size = window_size\n",
    "        self.prediction_length = prediction_length\n",
    "        self.is_test = is_test\n",
    "        \n",
    "        self.price_column = [col for col in self.data.columns if '평균가격(원)' in col and len(col.split('_')) == 1][0]\n",
    "        self.numeric_columns = self.data.select_dtypes(include=[np.number]).columns.tolist()\n",
    "        \n",
    "        self.sequences = []\n",
    "        if not self.is_test:\n",
    "            for i in range(len(self.data) - self.window_size - self.prediction_length + 1):\n",
    "                x = self.data[self.numeric_columns].iloc[i:i+self.window_size].values\n",
    "                y = self.data[self.price_column].iloc[i+self.window_size:i+self.window_size+self.prediction_length].values\n",
    "                self.sequences.append((x, y))\n",
    "        else:\n",
    "            self.sequences = [self.data[self.numeric_columns].values]\n",
    "    \n",
    "    def __len__(self):\n",
    "        return len(self.sequences)\n",
    "    \n",
    "    def __getitem__(self, idx):\n",
    "        if not self.is_test:\n",
    "            x, y = self.sequences[idx]\n",
    "            return torch.FloatTensor(x), torch.FloatTensor(y)\n",
    "        else:\n",
    "            return torch.FloatTensor(self.sequences[idx])"
   ]
  },
  {
   "cell_type": "markdown",
   "metadata": {},
   "source": [
    "# Define Model Architecture and Training Functions"
   ]
  },
  {
   "cell_type": "code",
   "execution_count": 9,
   "metadata": {},
   "outputs": [],
   "source": [
    "\n",
    "class PricePredictionLSTM(nn.Module):\n",
    "    def __init__(self, input_size, hidden_size, num_layers, output_size):\n",
    "        super(PricePredictionLSTM, self).__init__()\n",
    "        self.hidden_size = hidden_size\n",
    "        self.num_layers = num_layers\n",
    "        self.lstm = nn.LSTM(input_size, hidden_size, num_layers, batch_first=True)\n",
    "        self.fc = nn.Linear(hidden_size, output_size)\n",
    "    \n",
    "    def forward(self, x):\n",
    "        h0 = torch.zeros(self.num_layers, x.size(0), self.hidden_size).to(x.device)\n",
    "        c0 = torch.zeros(self.num_layers, x.size(0), self.hidden_size).to(x.device)\n",
    "        out, _ = self.lstm(x, (h0, c0))\n",
    "        out = self.fc(out[:, -1, :])\n",
    "        return out\n",
    "\n",
    "def train_model(model, train_loader, criterion, optimizer, num_epochs):\n",
    "    model.train()\n",
    "    total_loss = 0\n",
    "    for batch_x, batch_y in train_loader:\n",
    "        optimizer.zero_grad()\n",
    "        outputs = model(batch_x)\n",
    "        loss = criterion(outputs, batch_y)\n",
    "        loss.backward()\n",
    "        optimizer.step()\n",
    "        total_loss += loss.item()\n",
    "    return total_loss / len(train_loader)  \n",
    "\n",
    "def evaluate_model(model, test_loader, criterion):\n",
    "    model.eval()\n",
    "    total_loss = 0\n",
    "    with torch.no_grad():\n",
    "        for batch_x, batch_y in test_loader:\n",
    "            outputs = model(batch_x)\n",
    "            loss = criterion(outputs, batch_y)\n",
    "            total_loss += loss.item()\n",
    "    return total_loss / len(test_loader)"
   ]
  },
  {
   "cell_type": "markdown",
   "metadata": {},
   "source": [
    "# Train Models and Generate Predictions"
   ]
  },
  {
   "cell_type": "code",
   "execution_count": 12,
   "metadata": {},
   "outputs": [
    {
     "data": {
      "application/vnd.jupyter.widget-view+json": {
       "model_id": "1db3cef7e36848a0ad11b537ba54dbb5",
       "version_major": 2,
       "version_minor": 0
      },
      "text/plain": [
       "품목 처리 중:   0%|          | 0/10 [00:00<?, ?it/s]"
      ]
     },
     "metadata": {},
     "output_type": "display_data"
    },
    {
     "name": "stdout",
     "output_type": "stream",
     "text": [
      "Epoch 1/30, Train Loss: 0.7350, Val Loss: 0.7167\n",
      "Epoch 2/30, Train Loss: 0.7345, Val Loss: 0.7158\n",
      "Epoch 3/30, Train Loss: 0.7344, Val Loss: 0.7150\n",
      "Epoch 4/30, Train Loss: 0.7340, Val Loss: 0.7142\n",
      "Epoch 5/30, Train Loss: 0.7325, Val Loss: 0.7134\n",
      "Epoch 6/30, Train Loss: 0.7327, Val Loss: 0.7125\n",
      "Epoch 7/30, Train Loss: 0.7302, Val Loss: 0.7117\n",
      "Epoch 8/30, Train Loss: 0.7362, Val Loss: 0.7109\n",
      "Epoch 9/30, Train Loss: 0.7280, Val Loss: 0.7101\n",
      "Epoch 10/30, Train Loss: 0.7324, Val Loss: 0.7093\n",
      "Epoch 11/30, Train Loss: 0.7310, Val Loss: 0.7085\n",
      "Epoch 12/30, Train Loss: 0.7304, Val Loss: 0.7076\n",
      "Epoch 13/30, Train Loss: 0.7249, Val Loss: 0.7068\n",
      "Epoch 14/30, Train Loss: 0.7209, Val Loss: 0.7060\n",
      "Epoch 15/30, Train Loss: 0.7288, Val Loss: 0.7052\n",
      "Epoch 16/30, Train Loss: 0.7231, Val Loss: 0.7044\n",
      "Epoch 17/30, Train Loss: 0.7231, Val Loss: 0.7035\n",
      "Epoch 18/30, Train Loss: 0.7242, Val Loss: 0.7027\n",
      "Epoch 19/30, Train Loss: 0.7190, Val Loss: 0.7019\n",
      "Epoch 20/30, Train Loss: 0.7196, Val Loss: 0.7011\n",
      "Epoch 21/30, Train Loss: 0.7205, Val Loss: 0.7003\n",
      "Epoch 22/30, Train Loss: 0.7226, Val Loss: 0.6994\n",
      "Epoch 23/30, Train Loss: 0.7208, Val Loss: 0.6986\n",
      "Epoch 24/30, Train Loss: 0.7183, Val Loss: 0.6978\n",
      "Epoch 25/30, Train Loss: 0.7176, Val Loss: 0.6970\n",
      "Epoch 26/30, Train Loss: 0.7185, Val Loss: 0.6961\n",
      "Epoch 27/30, Train Loss: 0.7125, Val Loss: 0.6953\n",
      "Epoch 28/30, Train Loss: 0.7157, Val Loss: 0.6945\n",
      "Epoch 29/30, Train Loss: 0.7108, Val Loss: 0.6936\n",
      "Epoch 30/30, Train Loss: 0.7146, Val Loss: 0.6928\n",
      "Best Validation Loss for 건고추: 0.6928\n"
     ]
    },
    {
     "data": {
      "application/vnd.jupyter.widget-view+json": {
       "model_id": "0cd0f4c2b94a446eb496cdd416a1dc16",
       "version_major": 2,
       "version_minor": 0
      },
      "text/plain": [
       "테스트 파일 추론 중:   0%|          | 0/25 [00:00<?, ?it/s]"
      ]
     },
     "metadata": {},
     "output_type": "display_data"
    },
    {
     "name": "stdout",
     "output_type": "stream",
     "text": [
      "Epoch 1/30, Train Loss: 0.7693, Val Loss: 0.7765\n",
      "Epoch 2/30, Train Loss: 0.7697, Val Loss: 0.7754\n",
      "Epoch 3/30, Train Loss: 0.7657, Val Loss: 0.7743\n",
      "Epoch 4/30, Train Loss: 0.7656, Val Loss: 0.7733\n",
      "Epoch 5/30, Train Loss: 0.7634, Val Loss: 0.7722\n",
      "Epoch 6/30, Train Loss: 0.7613, Val Loss: 0.7711\n",
      "Epoch 7/30, Train Loss: 0.7624, Val Loss: 0.7701\n",
      "Epoch 8/30, Train Loss: 0.7587, Val Loss: 0.7690\n",
      "Epoch 9/30, Train Loss: 0.7589, Val Loss: 0.7680\n",
      "Epoch 10/30, Train Loss: 0.7589, Val Loss: 0.7669\n",
      "Epoch 11/30, Train Loss: 0.7582, Val Loss: 0.7659\n",
      "Epoch 12/30, Train Loss: 0.7566, Val Loss: 0.7648\n",
      "Epoch 13/30, Train Loss: 0.7561, Val Loss: 0.7638\n",
      "Epoch 14/30, Train Loss: 0.7530, Val Loss: 0.7627\n",
      "Epoch 15/30, Train Loss: 0.7537, Val Loss: 0.7617\n",
      "Epoch 16/30, Train Loss: 0.7502, Val Loss: 0.7606\n",
      "Epoch 17/30, Train Loss: 0.7505, Val Loss: 0.7596\n",
      "Epoch 18/30, Train Loss: 0.7473, Val Loss: 0.7586\n",
      "Epoch 19/30, Train Loss: 0.7505, Val Loss: 0.7575\n",
      "Epoch 20/30, Train Loss: 0.7479, Val Loss: 0.7565\n",
      "Epoch 21/30, Train Loss: 0.7449, Val Loss: 0.7554\n",
      "Epoch 22/30, Train Loss: 0.7455, Val Loss: 0.7544\n",
      "Epoch 23/30, Train Loss: 0.7459, Val Loss: 0.7533\n",
      "Epoch 24/30, Train Loss: 0.7417, Val Loss: 0.7523\n",
      "Epoch 25/30, Train Loss: 0.7412, Val Loss: 0.7512\n",
      "Epoch 26/30, Train Loss: 0.7389, Val Loss: 0.7502\n",
      "Epoch 27/30, Train Loss: 0.7372, Val Loss: 0.7491\n",
      "Epoch 28/30, Train Loss: 0.7389, Val Loss: 0.7481\n",
      "Epoch 29/30, Train Loss: 0.7362, Val Loss: 0.7470\n",
      "Epoch 30/30, Train Loss: 0.7366, Val Loss: 0.7460\n",
      "Best Validation Loss for 사과: 0.7460\n"
     ]
    },
    {
     "data": {
      "application/vnd.jupyter.widget-view+json": {
       "model_id": "630ecca206994ddc8d471d0c86cc1423",
       "version_major": 2,
       "version_minor": 0
      },
      "text/plain": [
       "테스트 파일 추론 중:   0%|          | 0/25 [00:00<?, ?it/s]"
      ]
     },
     "metadata": {},
     "output_type": "display_data"
    },
    {
     "name": "stdout",
     "output_type": "stream",
     "text": [
      "Epoch 1/30, Train Loss: 0.4511, Val Loss: 0.3642\n",
      "Epoch 2/30, Train Loss: 0.4410, Val Loss: 0.3633\n",
      "Epoch 3/30, Train Loss: 0.4394, Val Loss: 0.3624\n",
      "Epoch 4/30, Train Loss: 0.4449, Val Loss: 0.3615\n",
      "Epoch 5/30, Train Loss: 0.4449, Val Loss: 0.3605\n",
      "Epoch 6/30, Train Loss: 0.4452, Val Loss: 0.3596\n",
      "Epoch 7/30, Train Loss: 0.4446, Val Loss: 0.3587\n",
      "Epoch 8/30, Train Loss: 0.4224, Val Loss: 0.3578\n",
      "Epoch 9/30, Train Loss: 0.4361, Val Loss: 0.3568\n",
      "Epoch 10/30, Train Loss: 0.4384, Val Loss: 0.3559\n",
      "Epoch 11/30, Train Loss: 0.4332, Val Loss: 0.3550\n",
      "Epoch 12/30, Train Loss: 0.4358, Val Loss: 0.3540\n",
      "Epoch 13/30, Train Loss: 0.4364, Val Loss: 0.3531\n",
      "Epoch 14/30, Train Loss: 0.4336, Val Loss: 0.3522\n",
      "Epoch 15/30, Train Loss: 0.4265, Val Loss: 0.3512\n",
      "Epoch 16/30, Train Loss: 0.4328, Val Loss: 0.3503\n",
      "Epoch 17/30, Train Loss: 0.4250, Val Loss: 0.3493\n",
      "Epoch 18/30, Train Loss: 0.4365, Val Loss: 0.3484\n",
      "Epoch 19/30, Train Loss: 0.4318, Val Loss: 0.3474\n",
      "Epoch 20/30, Train Loss: 0.4227, Val Loss: 0.3464\n",
      "Epoch 21/30, Train Loss: 0.4286, Val Loss: 0.3455\n",
      "Epoch 22/30, Train Loss: 0.4281, Val Loss: 0.3445\n",
      "Epoch 23/30, Train Loss: 0.4156, Val Loss: 0.3435\n",
      "Epoch 24/30, Train Loss: 0.4198, Val Loss: 0.3425\n",
      "Epoch 25/30, Train Loss: 0.4167, Val Loss: 0.3415\n",
      "Epoch 26/30, Train Loss: 0.4227, Val Loss: 0.3405\n",
      "Epoch 27/30, Train Loss: 0.4196, Val Loss: 0.3395\n",
      "Epoch 28/30, Train Loss: 0.4167, Val Loss: 0.3386\n",
      "Epoch 29/30, Train Loss: 0.4163, Val Loss: 0.3376\n",
      "Epoch 30/30, Train Loss: 0.4169, Val Loss: 0.3366\n",
      "Best Validation Loss for 감자: 0.3366\n"
     ]
    },
    {
     "data": {
      "application/vnd.jupyter.widget-view+json": {
       "model_id": "5e13b34f8221410ab107bf2eecc54d06",
       "version_major": 2,
       "version_minor": 0
      },
      "text/plain": [
       "테스트 파일 추론 중:   0%|          | 0/25 [00:00<?, ?it/s]"
      ]
     },
     "metadata": {},
     "output_type": "display_data"
    },
    {
     "name": "stdout",
     "output_type": "stream",
     "text": [
      "Epoch 1/30, Train Loss: 0.5181, Val Loss: 0.5588\n",
      "Epoch 2/30, Train Loss: 0.5207, Val Loss: 0.5579\n",
      "Epoch 3/30, Train Loss: 0.5195, Val Loss: 0.5569\n",
      "Epoch 4/30, Train Loss: 0.5213, Val Loss: 0.5560\n",
      "Epoch 5/30, Train Loss: 0.5251, Val Loss: 0.5551\n",
      "Epoch 6/30, Train Loss: 0.5166, Val Loss: 0.5541\n",
      "Epoch 7/30, Train Loss: 0.5208, Val Loss: 0.5532\n",
      "Epoch 8/30, Train Loss: 0.5115, Val Loss: 0.5523\n",
      "Epoch 9/30, Train Loss: 0.5132, Val Loss: 0.5513\n",
      "Epoch 10/30, Train Loss: 0.5152, Val Loss: 0.5504\n",
      "Epoch 11/30, Train Loss: 0.5186, Val Loss: 0.5495\n",
      "Epoch 12/30, Train Loss: 0.5096, Val Loss: 0.5485\n",
      "Epoch 13/30, Train Loss: 0.5084, Val Loss: 0.5476\n",
      "Epoch 14/30, Train Loss: 0.5219, Val Loss: 0.5466\n",
      "Epoch 15/30, Train Loss: 0.5103, Val Loss: 0.5457\n",
      "Epoch 16/30, Train Loss: 0.5112, Val Loss: 0.5447\n",
      "Epoch 17/30, Train Loss: 0.5112, Val Loss: 0.5438\n",
      "Epoch 18/30, Train Loss: 0.5027, Val Loss: 0.5428\n",
      "Epoch 19/30, Train Loss: 0.5137, Val Loss: 0.5418\n",
      "Epoch 20/30, Train Loss: 0.5151, Val Loss: 0.5409\n",
      "Epoch 21/30, Train Loss: 0.5024, Val Loss: 0.5399\n",
      "Epoch 22/30, Train Loss: 0.4922, Val Loss: 0.5389\n",
      "Epoch 23/30, Train Loss: 0.4952, Val Loss: 0.5379\n",
      "Epoch 24/30, Train Loss: 0.4943, Val Loss: 0.5369\n",
      "Epoch 25/30, Train Loss: 0.4940, Val Loss: 0.5360\n",
      "Epoch 26/30, Train Loss: 0.5012, Val Loss: 0.5350\n",
      "Epoch 27/30, Train Loss: 0.4931, Val Loss: 0.5340\n",
      "Epoch 28/30, Train Loss: 0.4911, Val Loss: 0.5330\n",
      "Epoch 29/30, Train Loss: 0.4966, Val Loss: 0.5320\n",
      "Epoch 30/30, Train Loss: 0.4898, Val Loss: 0.5309\n",
      "Best Validation Loss for 배: 0.5309\n"
     ]
    },
    {
     "data": {
      "application/vnd.jupyter.widget-view+json": {
       "model_id": "26ba964e678f42e48b9934c9f147f200",
       "version_major": 2,
       "version_minor": 0
      },
      "text/plain": [
       "테스트 파일 추론 중:   0%|          | 0/25 [00:00<?, ?it/s]"
      ]
     },
     "metadata": {},
     "output_type": "display_data"
    },
    {
     "name": "stdout",
     "output_type": "stream",
     "text": [
      "Epoch 1/30, Train Loss: 0.1048, Val Loss: 0.1045\n",
      "Epoch 2/30, Train Loss: 0.1037, Val Loss: 0.1035\n",
      "Epoch 3/30, Train Loss: 0.1027, Val Loss: 0.1025\n",
      "Epoch 4/30, Train Loss: 0.1017, Val Loss: 0.1016\n",
      "Epoch 5/30, Train Loss: 0.1009, Val Loss: 0.1006\n",
      "Epoch 6/30, Train Loss: 0.0997, Val Loss: 0.0996\n",
      "Epoch 7/30, Train Loss: 0.0988, Val Loss: 0.0987\n",
      "Epoch 8/30, Train Loss: 0.0978, Val Loss: 0.0977\n",
      "Epoch 9/30, Train Loss: 0.0967, Val Loss: 0.0967\n",
      "Epoch 10/30, Train Loss: 0.0959, Val Loss: 0.0958\n",
      "Epoch 11/30, Train Loss: 0.0948, Val Loss: 0.0948\n",
      "Epoch 12/30, Train Loss: 0.0940, Val Loss: 0.0938\n",
      "Epoch 13/30, Train Loss: 0.0929, Val Loss: 0.0929\n",
      "Epoch 14/30, Train Loss: 0.0919, Val Loss: 0.0919\n",
      "Epoch 15/30, Train Loss: 0.0910, Val Loss: 0.0909\n",
      "Epoch 16/30, Train Loss: 0.0899, Val Loss: 0.0900\n",
      "Epoch 17/30, Train Loss: 0.0890, Val Loss: 0.0890\n",
      "Epoch 18/30, Train Loss: 0.0879, Val Loss: 0.0880\n",
      "Epoch 19/30, Train Loss: 0.0869, Val Loss: 0.0870\n",
      "Epoch 20/30, Train Loss: 0.0860, Val Loss: 0.0860\n",
      "Epoch 21/30, Train Loss: 0.0849, Val Loss: 0.0851\n",
      "Epoch 22/30, Train Loss: 0.0838, Val Loss: 0.0841\n",
      "Epoch 23/30, Train Loss: 0.0828, Val Loss: 0.0831\n",
      "Epoch 24/30, Train Loss: 0.0821, Val Loss: 0.0821\n",
      "Epoch 25/30, Train Loss: 0.0808, Val Loss: 0.0811\n",
      "Epoch 26/30, Train Loss: 0.0798, Val Loss: 0.0801\n",
      "Epoch 27/30, Train Loss: 0.0790, Val Loss: 0.0791\n",
      "Epoch 28/30, Train Loss: 0.0778, Val Loss: 0.0781\n",
      "Epoch 29/30, Train Loss: 0.0769, Val Loss: 0.0771\n",
      "Epoch 30/30, Train Loss: 0.0757, Val Loss: 0.0761\n",
      "Best Validation Loss for 깐마늘(국산): 0.0761\n"
     ]
    },
    {
     "data": {
      "application/vnd.jupyter.widget-view+json": {
       "model_id": "7842b9250f8b456695cd177d3f4b0be9",
       "version_major": 2,
       "version_minor": 0
      },
      "text/plain": [
       "테스트 파일 추론 중:   0%|          | 0/25 [00:00<?, ?it/s]"
      ]
     },
     "metadata": {},
     "output_type": "display_data"
    },
    {
     "name": "stdout",
     "output_type": "stream",
     "text": [
      "Epoch 1/30, Train Loss: 0.0825, Val Loss: 0.0827\n",
      "Epoch 2/30, Train Loss: 0.0815, Val Loss: 0.0817\n",
      "Epoch 3/30, Train Loss: 0.0808, Val Loss: 0.0806\n",
      "Epoch 4/30, Train Loss: 0.0795, Val Loss: 0.0796\n",
      "Epoch 5/30, Train Loss: 0.0786, Val Loss: 0.0786\n",
      "Epoch 6/30, Train Loss: 0.0773, Val Loss: 0.0776\n",
      "Epoch 7/30, Train Loss: 0.0765, Val Loss: 0.0766\n",
      "Epoch 8/30, Train Loss: 0.0757, Val Loss: 0.0756\n",
      "Epoch 9/30, Train Loss: 0.0745, Val Loss: 0.0746\n",
      "Epoch 10/30, Train Loss: 0.0735, Val Loss: 0.0736\n",
      "Epoch 11/30, Train Loss: 0.0722, Val Loss: 0.0725\n",
      "Epoch 12/30, Train Loss: 0.0716, Val Loss: 0.0715\n",
      "Epoch 13/30, Train Loss: 0.0704, Val Loss: 0.0705\n",
      "Epoch 14/30, Train Loss: 0.0693, Val Loss: 0.0695\n",
      "Epoch 15/30, Train Loss: 0.0682, Val Loss: 0.0684\n",
      "Epoch 16/30, Train Loss: 0.0676, Val Loss: 0.0674\n",
      "Epoch 17/30, Train Loss: 0.0666, Val Loss: 0.0664\n",
      "Epoch 18/30, Train Loss: 0.0653, Val Loss: 0.0653\n",
      "Epoch 19/30, Train Loss: 0.0641, Val Loss: 0.0643\n",
      "Epoch 20/30, Train Loss: 0.0631, Val Loss: 0.0632\n",
      "Epoch 21/30, Train Loss: 0.0621, Val Loss: 0.0622\n",
      "Epoch 22/30, Train Loss: 0.0612, Val Loss: 0.0611\n",
      "Epoch 23/30, Train Loss: 0.0596, Val Loss: 0.0600\n",
      "Epoch 24/30, Train Loss: 0.0589, Val Loss: 0.0589\n",
      "Epoch 25/30, Train Loss: 0.0580, Val Loss: 0.0578\n",
      "Epoch 26/30, Train Loss: 0.0567, Val Loss: 0.0568\n",
      "Epoch 27/30, Train Loss: 0.0554, Val Loss: 0.0557\n",
      "Epoch 28/30, Train Loss: 0.0545, Val Loss: 0.0546\n",
      "Epoch 29/30, Train Loss: 0.0537, Val Loss: 0.0536\n",
      "Epoch 30/30, Train Loss: 0.0527, Val Loss: 0.0526\n",
      "Best Validation Loss for 무: 0.0526\n"
     ]
    },
    {
     "data": {
      "application/vnd.jupyter.widget-view+json": {
       "model_id": "a1a9fe9db6444fd5ae82240a47b7ca37",
       "version_major": 2,
       "version_minor": 0
      },
      "text/plain": [
       "테스트 파일 추론 중:   0%|          | 0/25 [00:00<?, ?it/s]"
      ]
     },
     "metadata": {},
     "output_type": "display_data"
    },
    {
     "name": "stdout",
     "output_type": "stream",
     "text": [
      "Epoch 1/30, Train Loss: 0.3680, Val Loss: 0.3902\n",
      "Epoch 2/30, Train Loss: 0.3733, Val Loss: 0.3895\n",
      "Epoch 3/30, Train Loss: 0.3729, Val Loss: 0.3889\n",
      "Epoch 4/30, Train Loss: 0.3608, Val Loss: 0.3883\n",
      "Epoch 5/30, Train Loss: 0.3650, Val Loss: 0.3877\n",
      "Epoch 6/30, Train Loss: 0.3710, Val Loss: 0.3870\n",
      "Epoch 7/30, Train Loss: 0.3625, Val Loss: 0.3864\n",
      "Epoch 8/30, Train Loss: 0.3538, Val Loss: 0.3858\n",
      "Epoch 9/30, Train Loss: 0.3601, Val Loss: 0.3852\n",
      "Epoch 10/30, Train Loss: 0.3488, Val Loss: 0.3846\n",
      "Epoch 11/30, Train Loss: 0.3537, Val Loss: 0.3839\n",
      "Epoch 12/30, Train Loss: 0.3555, Val Loss: 0.3833\n",
      "Epoch 13/30, Train Loss: 0.3567, Val Loss: 0.3827\n",
      "Epoch 14/30, Train Loss: 0.3534, Val Loss: 0.3821\n",
      "Epoch 15/30, Train Loss: 0.3621, Val Loss: 0.3815\n",
      "Epoch 16/30, Train Loss: 0.3556, Val Loss: 0.3808\n",
      "Epoch 17/30, Train Loss: 0.3504, Val Loss: 0.3802\n",
      "Epoch 18/30, Train Loss: 0.3476, Val Loss: 0.3796\n",
      "Epoch 19/30, Train Loss: 0.3615, Val Loss: 0.3790\n",
      "Epoch 20/30, Train Loss: 0.3411, Val Loss: 0.3784\n",
      "Epoch 21/30, Train Loss: 0.3478, Val Loss: 0.3778\n",
      "Epoch 22/30, Train Loss: 0.3471, Val Loss: 0.3771\n",
      "Epoch 23/30, Train Loss: 0.3565, Val Loss: 0.3765\n",
      "Epoch 24/30, Train Loss: 0.3437, Val Loss: 0.3759\n",
      "Epoch 25/30, Train Loss: 0.3474, Val Loss: 0.3753\n",
      "Epoch 26/30, Train Loss: 0.3541, Val Loss: 0.3746\n",
      "Epoch 27/30, Train Loss: 0.3588, Val Loss: 0.3740\n",
      "Epoch 28/30, Train Loss: 0.3438, Val Loss: 0.3734\n",
      "Epoch 29/30, Train Loss: 0.3411, Val Loss: 0.3728\n",
      "Epoch 30/30, Train Loss: 0.3441, Val Loss: 0.3721\n",
      "Best Validation Loss for 상추: 0.3721\n"
     ]
    },
    {
     "data": {
      "application/vnd.jupyter.widget-view+json": {
       "model_id": "9a90b9f1c4ae4845ba41d5bc32e9f2d4",
       "version_major": 2,
       "version_minor": 0
      },
      "text/plain": [
       "테스트 파일 추론 중:   0%|          | 0/25 [00:00<?, ?it/s]"
      ]
     },
     "metadata": {},
     "output_type": "display_data"
    },
    {
     "name": "stdout",
     "output_type": "stream",
     "text": [
      "Epoch 1/30, Train Loss: 0.3418, Val Loss: 0.3206\n",
      "Epoch 2/30, Train Loss: 0.3436, Val Loss: 0.3193\n",
      "Epoch 3/30, Train Loss: 0.3450, Val Loss: 0.3180\n",
      "Epoch 4/30, Train Loss: 0.3349, Val Loss: 0.3167\n",
      "Epoch 5/30, Train Loss: 0.3387, Val Loss: 0.3154\n",
      "Epoch 6/30, Train Loss: 0.3289, Val Loss: 0.3140\n",
      "Epoch 7/30, Train Loss: 0.3326, Val Loss: 0.3127\n",
      "Epoch 8/30, Train Loss: 0.3349, Val Loss: 0.3114\n",
      "Epoch 9/30, Train Loss: 0.3297, Val Loss: 0.3101\n",
      "Epoch 10/30, Train Loss: 0.3264, Val Loss: 0.3088\n",
      "Epoch 11/30, Train Loss: 0.3335, Val Loss: 0.3074\n",
      "Epoch 12/30, Train Loss: 0.3251, Val Loss: 0.3061\n",
      "Epoch 13/30, Train Loss: 0.3212, Val Loss: 0.3048\n",
      "Epoch 14/30, Train Loss: 0.3183, Val Loss: 0.3034\n",
      "Epoch 15/30, Train Loss: 0.3292, Val Loss: 0.3021\n",
      "Epoch 16/30, Train Loss: 0.3210, Val Loss: 0.3008\n",
      "Epoch 17/30, Train Loss: 0.3227, Val Loss: 0.2994\n",
      "Epoch 18/30, Train Loss: 0.3106, Val Loss: 0.2981\n",
      "Epoch 19/30, Train Loss: 0.3153, Val Loss: 0.2967\n",
      "Epoch 20/30, Train Loss: 0.3147, Val Loss: 0.2953\n",
      "Epoch 21/30, Train Loss: 0.3189, Val Loss: 0.2940\n",
      "Epoch 22/30, Train Loss: 0.3127, Val Loss: 0.2926\n",
      "Epoch 23/30, Train Loss: 0.3094, Val Loss: 0.2912\n",
      "Epoch 24/30, Train Loss: 0.3107, Val Loss: 0.2898\n",
      "Epoch 25/30, Train Loss: 0.3158, Val Loss: 0.2884\n",
      "Epoch 26/30, Train Loss: 0.3012, Val Loss: 0.2870\n",
      "Epoch 27/30, Train Loss: 0.3079, Val Loss: 0.2856\n",
      "Epoch 28/30, Train Loss: 0.3016, Val Loss: 0.2842\n",
      "Epoch 29/30, Train Loss: 0.3022, Val Loss: 0.2828\n",
      "Epoch 30/30, Train Loss: 0.2981, Val Loss: 0.2814\n",
      "Best Validation Loss for 배추: 0.2814\n"
     ]
    },
    {
     "data": {
      "application/vnd.jupyter.widget-view+json": {
       "model_id": "c352eea0b1df48d6beb0b7cd9ca00fad",
       "version_major": 2,
       "version_minor": 0
      },
      "text/plain": [
       "테스트 파일 추론 중:   0%|          | 0/25 [00:00<?, ?it/s]"
      ]
     },
     "metadata": {},
     "output_type": "display_data"
    },
    {
     "name": "stdout",
     "output_type": "stream",
     "text": [
      "Epoch 1/30, Train Loss: 0.4783, Val Loss: 0.4730\n",
      "Epoch 2/30, Train Loss: 0.4714, Val Loss: 0.4719\n",
      "Epoch 3/30, Train Loss: 0.4731, Val Loss: 0.4708\n",
      "Epoch 4/30, Train Loss: 0.4662, Val Loss: 0.4696\n",
      "Epoch 5/30, Train Loss: 0.4695, Val Loss: 0.4685\n",
      "Epoch 6/30, Train Loss: 0.4700, Val Loss: 0.4674\n",
      "Epoch 7/30, Train Loss: 0.4656, Val Loss: 0.4663\n",
      "Epoch 8/30, Train Loss: 0.4688, Val Loss: 0.4652\n",
      "Epoch 9/30, Train Loss: 0.4655, Val Loss: 0.4640\n",
      "Epoch 10/30, Train Loss: 0.4560, Val Loss: 0.4629\n",
      "Epoch 11/30, Train Loss: 0.4586, Val Loss: 0.4618\n",
      "Epoch 12/30, Train Loss: 0.4590, Val Loss: 0.4607\n",
      "Epoch 13/30, Train Loss: 0.4555, Val Loss: 0.4595\n",
      "Epoch 14/30, Train Loss: 0.4573, Val Loss: 0.4584\n",
      "Epoch 15/30, Train Loss: 0.4532, Val Loss: 0.4573\n",
      "Epoch 16/30, Train Loss: 0.4535, Val Loss: 0.4561\n",
      "Epoch 17/30, Train Loss: 0.4486, Val Loss: 0.4550\n",
      "Epoch 18/30, Train Loss: 0.4554, Val Loss: 0.4538\n",
      "Epoch 19/30, Train Loss: 0.4552, Val Loss: 0.4527\n",
      "Epoch 20/30, Train Loss: 0.4453, Val Loss: 0.4515\n",
      "Epoch 21/30, Train Loss: 0.4455, Val Loss: 0.4503\n",
      "Epoch 22/30, Train Loss: 0.4448, Val Loss: 0.4492\n",
      "Epoch 23/30, Train Loss: 0.4475, Val Loss: 0.4480\n",
      "Epoch 24/30, Train Loss: 0.4425, Val Loss: 0.4468\n",
      "Epoch 25/30, Train Loss: 0.4390, Val Loss: 0.4457\n",
      "Epoch 26/30, Train Loss: 0.4439, Val Loss: 0.4445\n",
      "Epoch 27/30, Train Loss: 0.4399, Val Loss: 0.4434\n",
      "Epoch 28/30, Train Loss: 0.4424, Val Loss: 0.4422\n",
      "Epoch 29/30, Train Loss: 0.4339, Val Loss: 0.4410\n",
      "Epoch 30/30, Train Loss: 0.4404, Val Loss: 0.4398\n",
      "Best Validation Loss for 양파: 0.4398\n"
     ]
    },
    {
     "data": {
      "application/vnd.jupyter.widget-view+json": {
       "model_id": "038899341f70422cb5d77b6a5329082a",
       "version_major": 2,
       "version_minor": 0
      },
      "text/plain": [
       "테스트 파일 추론 중:   0%|          | 0/25 [00:00<?, ?it/s]"
      ]
     },
     "metadata": {},
     "output_type": "display_data"
    },
    {
     "name": "stdout",
     "output_type": "stream",
     "text": [
      "Epoch 1/30, Train Loss: 0.5261, Val Loss: 0.4773\n",
      "Epoch 2/30, Train Loss: 0.5312, Val Loss: 0.4763\n",
      "Epoch 3/30, Train Loss: 0.5216, Val Loss: 0.4752\n",
      "Epoch 4/30, Train Loss: 0.5229, Val Loss: 0.4741\n",
      "Epoch 5/30, Train Loss: 0.5163, Val Loss: 0.4730\n",
      "Epoch 6/30, Train Loss: 0.5211, Val Loss: 0.4719\n",
      "Epoch 7/30, Train Loss: 0.5225, Val Loss: 0.4708\n",
      "Epoch 8/30, Train Loss: 0.5137, Val Loss: 0.4698\n",
      "Epoch 9/30, Train Loss: 0.5201, Val Loss: 0.4687\n",
      "Epoch 10/30, Train Loss: 0.5246, Val Loss: 0.4676\n",
      "Epoch 11/30, Train Loss: 0.5167, Val Loss: 0.4666\n",
      "Epoch 12/30, Train Loss: 0.5116, Val Loss: 0.4655\n",
      "Epoch 13/30, Train Loss: 0.5099, Val Loss: 0.4644\n",
      "Epoch 14/30, Train Loss: 0.5096, Val Loss: 0.4634\n",
      "Epoch 15/30, Train Loss: 0.5025, Val Loss: 0.4623\n",
      "Epoch 16/30, Train Loss: 0.5063, Val Loss: 0.4613\n",
      "Epoch 17/30, Train Loss: 0.5101, Val Loss: 0.4602\n",
      "Epoch 18/30, Train Loss: 0.5030, Val Loss: 0.4592\n",
      "Epoch 19/30, Train Loss: 0.5059, Val Loss: 0.4581\n",
      "Epoch 20/30, Train Loss: 0.5045, Val Loss: 0.4571\n",
      "Epoch 21/30, Train Loss: 0.5056, Val Loss: 0.4560\n",
      "Epoch 22/30, Train Loss: 0.4998, Val Loss: 0.4550\n",
      "Epoch 23/30, Train Loss: 0.5008, Val Loss: 0.4539\n",
      "Epoch 24/30, Train Loss: 0.5046, Val Loss: 0.4529\n",
      "Epoch 25/30, Train Loss: 0.4980, Val Loss: 0.4518\n",
      "Epoch 26/30, Train Loss: 0.4982, Val Loss: 0.4508\n",
      "Epoch 27/30, Train Loss: 0.4988, Val Loss: 0.4497\n",
      "Epoch 28/30, Train Loss: 0.4917, Val Loss: 0.4487\n",
      "Epoch 29/30, Train Loss: 0.4944, Val Loss: 0.4476\n",
      "Epoch 30/30, Train Loss: 0.4943, Val Loss: 0.4466\n",
      "Best Validation Loss for 대파: 0.4466\n"
     ]
    },
    {
     "data": {
      "application/vnd.jupyter.widget-view+json": {
       "model_id": "f7e163e828aa48d3aa3441163f147c5f",
       "version_major": 2,
       "version_minor": 0
      },
      "text/plain": [
       "테스트 파일 추론 중:   0%|          | 0/25 [00:00<?, ?it/s]"
      ]
     },
     "metadata": {},
     "output_type": "display_data"
    }
   ],
   "source": [
    "품목별_predictions = {}\n",
    "품목별_scalers = {}\n",
    "\n",
    "pbar_outer = tqdm(품목_리스트, desc=\"품목 처리 중\", position=0)\n",
    "for 품목명 in pbar_outer:\n",
    "    pbar_outer.set_description(f\"품목별 전처리 및 모델 학습 -> {품목명}\")\n",
    "    train_data, scaler = process_data(\"./Data/train/train.csv\", \n",
    "                              \"./Data/train/meta/TRAIN_산지공판장_2018-2021.csv\", \n",
    "                              \"./Data/train/meta/TRAIN_전국도매_2018-2021.csv\", \n",
    "                              품목명)\n",
    "    품목별_scalers[품목명] = scaler\n",
    "    dataset = AgriculturePriceDataset(train_data)\n",
    "\n",
    "    # 데이터를 train과 validation으로 분할\n",
    "    train_data, val_data = train_test_split(dataset, test_size=0.2, random_state=42)\n",
    "    \n",
    "    train_loader = DataLoader(train_data, CFG.batch_size, shuffle=True)\n",
    "    val_loader = DataLoader(val_data, CFG.batch_size, shuffle=False)\n",
    "\n",
    "    input_size = len(dataset.numeric_columns)\n",
    "    \n",
    "    model = PricePredictionLSTM(input_size, CFG.hidden_size, CFG.num_layers, CFG.output_size)\n",
    "    criterion = nn.L1Loss()\n",
    "    optimizer = torch.optim.Adam(model.parameters(), CFG.learning_rate)\n",
    "    \n",
    "    best_val_loss = float('inf')\n",
    "    os.makedirs('models', exist_ok=True)\n",
    "\n",
    "    for epoch in range(CFG.epoch):\n",
    "        train_loss = train_model(model, train_loader, criterion, optimizer, CFG.epoch)\n",
    "        val_loss = evaluate_model(model, val_loader, criterion)\n",
    "        \n",
    "        if val_loss < best_val_loss:\n",
    "            best_val_loss = val_loss\n",
    "            torch.save(model.state_dict(), f'models/best_model_{품목명}.pth')\n",
    "        \n",
    "        print(f'Epoch {epoch+1}/{CFG.epoch}, Train Loss: {train_loss:.4f}, Val Loss: {val_loss:.4f}')\n",
    "    \n",
    "    print(f'Best Validation Loss for {품목명}: {best_val_loss:.4f}')\n",
    "    \n",
    "    품목_predictions = []\n",
    "\n",
    "    ### 추론 \n",
    "    pbar_inner = tqdm(range(25), desc=\"테스트 파일 추론 중\", position=1, leave=False)\n",
    "    for i in pbar_inner:\n",
    "        test_file = f\"./Data/test/TEST_{i:02d}.csv\"\n",
    "        산지공판장_file = f\"./Data/test/meta/TEST_산지공판장_{i:02d}.csv\"\n",
    "        전국도매_file = f\"./Data/test/meta/TEST_전국도매_{i:02d}.csv\"\n",
    "        \n",
    "        test_data, _ = process_data(test_file, 산지공판장_file, 전국도매_file, 품목명, scaler=품목별_scalers[품목명])\n",
    "        test_dataset = AgriculturePriceDataset(test_data, is_test=True)\n",
    "        test_loader = DataLoader(test_dataset, batch_size=1, shuffle=False)\n",
    "\n",
    "        model.eval()\n",
    "        predictions = []\n",
    "        with torch.no_grad():\n",
    "            for batch in test_loader:\n",
    "                output = model(batch)\n",
    "                predictions.append(output.numpy())\n",
    "        \n",
    "        predictions_array = np.concatenate(predictions)\n",
    "\n",
    "        # 예측값을 원래 스케일로 복원\n",
    "        price_column_index = test_data.columns.get_loc(test_dataset.price_column)\n",
    "        predictions_reshaped = predictions_array.reshape(-1, 1)\n",
    "        \n",
    "        # 가격 열에 대해서만 inverse_transform 적용\n",
    "        price_scaler = MinMaxScaler()\n",
    "        price_scaler.min_ = 품목별_scalers[품목명].min_[price_column_index]\n",
    "        price_scaler.scale_ = 품목별_scalers[품목명].scale_[price_column_index]\n",
    "        predictions_original_scale = price_scaler.inverse_transform(predictions_reshaped)\n",
    "        #print(predictions_original_scale)\n",
    "        \n",
    "        if np.isnan(predictions_original_scale).any():\n",
    "            pbar_inner.set_postfix({\"상태\": \"NaN\"})\n",
    "        else:\n",
    "            pbar_inner.set_postfix({\"상태\": \"정상\"})\n",
    "            품목_predictions.extend(predictions_original_scale.flatten())\n",
    "\n",
    "            \n",
    "    품목별_predictions[품목명] = 품목_predictions\n",
    "    pbar_outer.update(1)\n"
   ]
  },
  {
   "cell_type": "markdown",
   "metadata": {},
   "source": [
    "# Prepare Submission File"
   ]
  },
  {
   "cell_type": "code",
   "execution_count": null,
   "metadata": {},
   "outputs": [],
   "source": [
    "sample_submission = pd.read_csv('./sample_submission.csv')\n",
    "\n",
    "for 품목명, predictions in 품목별_predictions.items():\n",
    "    sample_submission[품목명] = predictions\n",
    "\n",
    "# 결과 저장\n",
    "sample_submission.to_csv('./baseline_submission.csv', index=False)\n"
   ]
  }
 ],
 "metadata": {
  "kernelspec": {
   "display_name": ".venv",
   "language": "python",
   "name": "python3"
  },
  "language_info": {
   "codemirror_mode": {
    "name": "ipython",
    "version": 3
   },
   "file_extension": ".py",
   "mimetype": "text/x-python",
   "name": "python",
   "nbconvert_exporter": "python",
   "pygments_lexer": "ipython3",
   "version": "3.11.7"
  }
 },
 "nbformat": 4,
 "nbformat_minor": 2
}
