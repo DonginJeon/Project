{
 "cells": [
  {
   "cell_type": "code",
   "execution_count": 24,
   "metadata": {},
   "outputs": [],
   "source": [
    "import gspread\n",
    "import pandas as pd\n",
    "from oauth2client.service_account import ServiceAccountCredentials\n",
    "from QueryCorrection import HangulSearch\n",
    "\n",
    "\n",
    "# Google Sheets API 인증 및 접근\n",
    "scope = [\n",
    "    \"https://spreadsheets.google.com/feeds\",\n",
    "    \"https://www.googleapis.com/auth/drive\",\n",
    "]\n",
    "creds = ServiceAccountCredentials.from_json_keyfile_name(\"key.json\", scope)\n",
    "gc = gspread.authorize(creds)\n",
    "\n",
    "# 스프레드시트 URL 설정\n",
    "spreadsheet_url = \"https://docs.google.com/spreadsheets/d/1PzFuHuF2DvMPdSI-TK4Kq5LjPwyGzIxH3Q0Drnqft20/edit?usp=sharing\"\n",
    "# URL을 통해 스프레드시트 열기\n",
    "doc = gc.open_by_url(spreadsheet_url)\n",
    "# 특정 시트 선택\n",
    "sheet = doc.worksheet(\"상병 Category의 사본\")\n",
    "# 시트의 모든 데이터를 가져오기\n",
    "data = sheet.get_all_values()\n",
    "# 데이터프레임으로 변환\n",
    "df = pd.DataFrame(data[1:], columns=data[0])\n",
    "\n",
    "\n",
    "# 검색 함수\n",
    "def search_in_dataframe(query, dataframe):\n",
    "    # 입력된 query에 해당하는 모든 열에서 검색\n",
    "    result = dataframe[\n",
    "        dataframe.apply(\n",
    "            lambda row: row.astype(str).str.contains(query, case=False, na=False).any(),\n",
    "            axis=1,\n",
    "        )\n",
    "    ]\n",
    "    return result"
   ]
  },
  {
   "cell_type": "code",
   "execution_count": 57,
   "metadata": {},
   "outputs": [
    {
     "name": "stdout",
     "output_type": "stream",
     "text": [
      "Search Results:\n"
     ]
    },
    {
     "data": {
      "text/html": [
       "<div>\n",
       "<style scoped>\n",
       "    .dataframe tbody tr th:only-of-type {\n",
       "        vertical-align: middle;\n",
       "    }\n",
       "\n",
       "    .dataframe tbody tr th {\n",
       "        vertical-align: top;\n",
       "    }\n",
       "\n",
       "    .dataframe thead th {\n",
       "        text-align: right;\n",
       "    }\n",
       "</style>\n",
       "<table border=\"1\" class=\"dataframe\">\n",
       "  <thead>\n",
       "    <tr style=\"text-align: right;\">\n",
       "      <th></th>\n",
       "      <th>불완전 상병 코드</th>\n",
       "      <th>\b불완전 상병명</th>\n",
       "      <th>청구 카테고리</th>\n",
       "      <th>세부 청구 항목</th>\n",
       "    </tr>\n",
       "  </thead>\n",
       "  <tbody>\n",
       "    <tr>\n",
       "      <th>36</th>\n",
       "      <td>K02.~</td>\n",
       "      <td>치아 우식</td>\n",
       "      <td></td>\n",
       "      <td></td>\n",
       "    </tr>\n",
       "  </tbody>\n",
       "</table>\n",
       "</div>"
      ],
      "text/plain": [
       "   불완전 상병 코드 \b불완전 상병명 청구 카테고리 세부 청구 항목\n",
       "36     K02.~    치아 우식                 "
      ]
     },
     "execution_count": 57,
     "metadata": {},
     "output_type": "execute_result"
    }
   ],
   "source": [
    "# 사용자 입력 예시\n",
    "user_input = \"우식\"\n",
    "\n",
    "# HangulSearch 클래스 인스턴스 생성 및 검색어 보정\n",
    "searcher = HangulSearch(df)\n",
    "corrected_query = searcher.correct_query(user_input)\n",
    "\n",
    "# 데이터프레임 내에서 보정된 검색어로 검색 수행\n",
    "search_results = search_in_dataframe(corrected_query, df)\n",
    "\n",
    "# 결과 출력\n",
    "print(\"Search Results:\")\n",
    "search_results"
   ]
  }
 ],
 "metadata": {
  "kernelspec": {
   "display_name": "Python 3",
   "language": "python",
   "name": "python3"
  },
  "language_info": {
   "codemirror_mode": {
    "name": "ipython",
    "version": 3
   },
   "file_extension": ".py",
   "mimetype": "text/x-python",
   "name": "python",
   "nbconvert_exporter": "python",
   "pygments_lexer": "ipython3",
   "version": "3.9.20"
  }
 },
 "nbformat": 4,
 "nbformat_minor": 2
}
