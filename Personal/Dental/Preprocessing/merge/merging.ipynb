{
 "cells": [
  {
   "cell_type": "markdown",
   "metadata": {},
   "source": [
    "---\n"
   ]
  },
  {
   "cell_type": "markdown",
   "metadata": {},
   "source": [
    "# merge"
   ]
  },
  {
   "cell_type": "markdown",
   "metadata": {},
   "source": [
    "### 위의 시트에서 사본시트에서 코드를 확인하여 일치하는 보험 청구 항목을 새로운 열로 추가하는 코드입니다"
   ]
  },
  {
   "cell_type": "code",
   "execution_count": null,
   "metadata": {},
   "outputs": [],
   "source": [
    "import gspread\n",
    "import re\n",
    "import time\n",
    "from oauth2client.service_account import ServiceAccountCredentials\n",
    "\n",
    "# 구글 스프레드시트 인증 및 설정\n",
    "scope = [\n",
    "    \"https://spreadsheets.google.com/feeds\",\n",
    "    \"https://www.googleapis.com/auth/drive\",\n",
    "]\n",
    "creds = ServiceAccountCredentials.from_json_keyfile_name(\"key.json\", scope)\n",
    "gc = gspread.authorize(creds)\n",
    "\n",
    "spreadsheet_url = \"https://docs.google.com/spreadsheets/d/1PzFuHuF2DvMPdSI-TK4Kq5LjPwyGzIxH3Q0Drnqft20/edit?usp=sharing\"\n",
    "\n",
    "doc = gc.open_by_url(spreadsheet_url)\n",
    "\n",
    "insurance_claim_sheet = doc.worksheet(\"행위별 Category\")\n",
    "disease_code_sheet = doc.worksheet(\"상병 Category의 사본\")\n",
    "\n",
    "insurance_claim_data = insurance_claim_sheet.get_all_values()\n",
    "disease_code_data = disease_code_sheet.get_all_values()\n",
    "\n",
    "# 추가된 열의 이름 저장\n",
    "disease_code_sheet.update(\"C1:D1\", [[\"청구 카테고리\", \"세부 청구 항목\"]])\n",
    "\n",
    "# 상병 코드를 추적하여 중복될 경우 항목을 병합할 딕셔너리 생성\n",
    "disease_code_tracker = {}\n",
    "\n",
    "for disease_row_idx, disease_row in enumerate(disease_code_data[1:], start=2):\n",
    "    disease_code = disease_row[0]\n",
    "\n",
    "    # 상병 코드에 '~'가 포함된 경우 빈칸으로 처리\n",
    "    if not disease_code.strip() or \"~\" in disease_code:\n",
    "        clean_category = \"\"\n",
    "        clean_item = \"\"\n",
    "    else:\n",
    "        category = \"일치하는 보험 상품이 없습니다\"\n",
    "        item = \"일치하는 보험 상품이 없습니다\"\n",
    "        matched = False  # 매칭 여부를 추적하는 변수\n",
    "\n",
    "        for claim_row in insurance_claim_data[1:]:\n",
    "            claim_codes = claim_row[3].split(\",\")\n",
    "\n",
    "            if disease_code in [code.strip() for code in claim_codes]:\n",
    "                # 숫자를 제거하지 않고 항목 그대로 사용\n",
    "                new_category = claim_row[0].strip()\n",
    "                new_item = claim_row[1].strip()\n",
    "\n",
    "                matched = True  # 매칭이 발생했음을 표시\n",
    "\n",
    "                # 중복된 상병 코드를 처리하여 병합\n",
    "                if disease_code in disease_code_tracker:\n",
    "                    clean_category, clean_item = disease_code_tracker[disease_code]\n",
    "\n",
    "                    # 중복된 항목 병합\n",
    "                    if new_category not in clean_category:\n",
    "                        clean_category += f\" | {new_category}\"\n",
    "                    if new_item not in clean_item:\n",
    "                        clean_item += f\" | {new_item}\"\n",
    "                else:\n",
    "                    clean_category = new_category\n",
    "                    clean_item = new_item\n",
    "\n",
    "                # 병합된 결과를 딕셔너리에 저장\n",
    "                disease_code_tracker[disease_code] = (clean_category, clean_item)\n",
    "\n",
    "        # 매칭된 코드가 없으면 '일치하는 보험 상품이 없습니다' 추가\n",
    "        if not matched:\n",
    "            clean_category = \"일치하는 정보가 없습니다\"\n",
    "            clean_item = \"일치하는 정보가 없습니다\"\n",
    "\n",
    "    # 병합된 데이터를 시트에 업데이트\n",
    "    disease_code_sheet.update(\n",
    "        f\"C{disease_row_idx}:D{disease_row_idx}\", [[clean_category, clean_item]]\n",
    "    )\n",
    "    time.sleep(2)"
   ]
  }
 ],
 "metadata": {
  "kernelspec": {
   "display_name": "Python 3",
   "language": "python",
   "name": "python3"
  },
  "language_info": {
   "codemirror_mode": {
    "name": "ipython",
    "version": 3
   },
   "file_extension": ".py",
   "mimetype": "text/x-python",
   "name": "python",
   "nbconvert_exporter": "python",
   "pygments_lexer": "ipython3",
   "version": "3.9.20"
  }
 },
 "nbformat": 4,
 "nbformat_minor": 2
}
