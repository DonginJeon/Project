{
 "cells": [
  {
   "cell_type": "code",
   "execution_count": null,
   "metadata": {},
   "outputs": [],
   "source": [
    "import json\n",
    "import boto3\n",
    "import pymysql\n",
    "\n",
    "# S3 및 RDS 설정\n",
    "s3 = boto3.client('s3')\n",
    "rds_host = \"your_rds_endpoint\"\n",
    "username = \"your_db_username\"\n",
    "password = \"your_db_password\"\n",
    "database_name = \"your_database_name\"\n",
    "\n",
    "# Lambda 핸들러 함수\n",
    "def lambda_handler(event, context):\n",
    "    # S3에서 데이터 가져오기\n",
    "    response = s3.get_object(Bucket='your_bucket_name', Key='response_data.json')\n",
    "    data = json.loads(response['Body'].read())\n",
    "    \n",
    "    # RDS에 연결\n",
    "    connection = pymysql.connect(\n",
    "        host=rds_host,\n",
    "        user=username,\n",
    "        password=password,\n",
    "        db=database_name\n",
    "    )\n",
    "    \n",
    "    with connection.cursor() as cursor:\n",
    "        for entry in data:\n",
    "            student_id = entry['student_id']\n",
    "            session_id = entry['session_id']\n",
    "            question_id = entry['question_id']\n",
    "            response = entry['response']\n",
    "            \n",
    "            # RDS에서 해당 question_id의 문항모수를 가져와서 채점\n",
    "            cursor.execute(\"SELECT a, b, c FROM question_bank WHERE question_id = %s\", (question_id,))\n",
    "            question_params = cursor.fetchone()\n",
    "            \n",
    "            if question_params:\n",
    "                a, b, c = question_params\n",
    "                # 예시: 3PL 모델을 사용하여 정답 확률 계산 및 채점\n",
    "                probability_correct = c + (1 - c) / (1 + np.exp(-1.7 * a * (theta - b)))\n",
    "                is_correct = int(response == 1 if probability_correct > 0.5 else 0)\n",
    "                \n",
    "                # SageMaker 호출하여 θ 값 업데이트 (생략: SageMaker 호출 코드 추가 필요)\n",
    "                \n",
    "                # RDS에 학생의 θ 값 업데이트\n",
    "                cursor.execute(\"UPDATE student_abilities SET theta = %s WHERE student_id = %s\", (new_theta, student_id))\n",
    "        \n",
    "        # 변경 사항 커밋\n",
    "        connection.commit()\n",
    "\n",
    "    connection.close()\n",
    "    return {\"statusCode\": 200, \"body\": json.dumps(\"Processing completed successfully.\")}\n"
   ]
  }
 ],
 "metadata": {
  "kernelspec": {
   "display_name": "base",
   "language": "python",
   "name": "python3"
  },
  "language_info": {
   "name": "python",
   "version": "3.11.7"
  }
 },
 "nbformat": 4,
 "nbformat_minor": 2
}
