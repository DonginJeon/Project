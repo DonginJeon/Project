{
 "cells": [
  {
   "cell_type": "code",
   "execution_count": 2,
   "metadata": {},
   "outputs": [
    {
     "name": "stdout",
     "output_type": "stream",
     "text": [
      "MariaDB에 성공적으로 연결되었습니다.\n",
      "데이터베이스 내 테이블 목록:\n",
      "('question_bank',)\n",
      "('student_responses',)\n",
      "('student_theta',)\n"
     ]
    }
   ],
   "source": [
    "import pymysql\n",
    "\n",
    "# EC2 인스턴스의 MariaDB 정보로 변경해 주세요\n",
    "HOST = 'EC2_IP_ADDRESS'  # EC2 인스턴스의 퍼블릭 IP 주소\n",
    "PORT = 3306\n",
    "USER = 'your_user'       # MariaDB 사용자명\n",
    "PASSWORD = 'your_password'  # MariaDB 비밀번호\n",
    "DATABASE = 'your_database'  # 접근하려는 데이터베이스 이름\n",
    "\n",
    "try:\n",
    "    # MariaDB에 연결\n",
    "    connection = pymysql.connect(\n",
    "        host=\"54.180.248.114\",\n",
    "        user=\"root\",\n",
    "        password=\"1234\",\n",
    "        database=\"theta_db\",\n",
    "        port=3306\n",
    "    )\n",
    "    \n",
    "    print(\"MariaDB에 성공적으로 연결되었습니다.\")\n",
    "    \n",
    "    # 간단한 쿼리 실행\n",
    "    with connection.cursor() as cursor:\n",
    "        cursor.execute(\"SHOW TABLES;\")\n",
    "        tables = cursor.fetchall()\n",
    "        print(\"데이터베이스 내 테이블 목록:\")\n",
    "        for table in tables:\n",
    "            print(table)\n",
    "            \n",
    "except pymysql.MySQLError as e:\n",
    "    print(f\"연결 실패: {e}\")\n",
    "finally:\n",
    "    # 연결 종료\n",
    "    if connection:\n",
    "        connection.close()\n"
   ]
  }
 ],
 "metadata": {
  "kernelspec": {
   "display_name": "base",
   "language": "python",
   "name": "python3"
  },
  "language_info": {
   "codemirror_mode": {
    "name": "ipython",
    "version": 3
   },
   "file_extension": ".py",
   "mimetype": "text/x-python",
   "name": "python",
   "nbconvert_exporter": "python",
   "pygments_lexer": "ipython3",
   "version": "3.11.7"
  }
 },
 "nbformat": 4,
 "nbformat_minor": 2
}
